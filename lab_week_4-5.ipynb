{
 "cells": [
  {
   "cell_type": "markdown",
   "id": "15b3119d",
   "metadata": {},
   "source": [
    "GUID: 2147105s<br>\n",
    "GitHub URL: https://github.com/markstrathie/2024-ai-b"
   ]
  },
  {
   "cell_type": "markdown",
   "id": "adccdae3",
   "metadata": {},
   "source": [
    "### Lab 4 - Pretrained model example"
   ]
  },
  {
   "cell_type": "code",
   "execution_count": 12,
   "id": "44a364cc",
   "metadata": {},
   "outputs": [
    {
     "name": "stdout",
     "output_type": "stream",
     "text": [
      "WARNING:tensorflow:6 out of the last 6 calls to <function Model.make_predict_function.<locals>.predict_function at 0x0000022C8AAC2670> triggered tf.function retracing. Tracing is expensive and the excessive number of tracings could be due to (1) creating @tf.function repeatedly in a loop, (2) passing tensors with different shapes, (3) passing Python objects instead of tensors. For (1), please define your @tf.function outside of the loop. For (2), @tf.function has reduce_retracing=True option that can avoid unnecessary retracing. For (3), please refer to https://www.tensorflow.org/guide/function#controlling_retracing and https://www.tensorflow.org/api_docs/python/tf/function for  more details.\n",
      "1/1 [==============================] - 1s 565ms/step\n"
     ]
    },
    {
     "data": {
      "text/plain": [
       "[[('n04476259', 'tray', 0.15214765),\n",
       "  ('n06596364', 'comic_book', 0.10473602),\n",
       "  ('n02708093', 'analog_clock', 0.09750375),\n",
       "  ('n07248320', 'book_jacket', 0.07032026),\n",
       "  ('n04523525', 'vault', 0.06965156)]]"
      ]
     },
     "execution_count": 12,
     "metadata": {},
     "output_type": "execute_result"
    }
   ],
   "source": [
    "from keras.applications.vgg16 import VGG16 # importing  pre trained model for image classification\n",
    "from keras.applications.vgg16 import decode_predictions # importing tool to decode model's output\n",
    "import numpy as np # import numpy\n",
    "\n",
    "img_path = 'img/atlas-generation.png' # load image as variable\n",
    "model = VGG16(weights='imagenet') # instantiate a model to use the weights trained on ImageNet\n",
    "img = keras.utils.load_img(img_path, target_size = (224, 224)) # load image specifying the size\n",
    "image = keras.utils.img_to_array(img) # tranform to an array\n",
    "image = np.expand_dims(image, axis = 0) # use numpy on array\n",
    "encoded = model.predict(image) # predict categories\n",
    "decode_predictions(encoded) # decode so we can read"
   ]
  },
  {
   "cell_type": "code",
   "execution_count": null,
   "id": "4f082647",
   "metadata": {},
   "outputs": [],
   "source": []
  }
 ],
 "metadata": {
  "kernelspec": {
   "display_name": "Python 3 (ipykernel)",
   "language": "python",
   "name": "python3"
  },
  "language_info": {
   "codemirror_mode": {
    "name": "ipython",
    "version": 3
   },
   "file_extension": ".py",
   "mimetype": "text/x-python",
   "name": "python",
   "nbconvert_exporter": "python",
   "pygments_lexer": "ipython3",
   "version": "3.9.18"
  }
 },
 "nbformat": 4,
 "nbformat_minor": 5
}
