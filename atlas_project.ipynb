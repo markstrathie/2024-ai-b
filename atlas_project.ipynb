{
 "cells": [
  {
   "cell_type": "markdown",
   "id": "cd1cdf46",
   "metadata": {},
   "source": [
    "# Celebrating Global Trade:\n",
    "## A Human-AI Collaboration Project Exploring a 17th Century Atlas\n",
    "GUID: 2147105s  \n",
    "[GitHub URL](https://github.com/markstrathie/2024-ai-b) - April 2024\n",
    "\n",
    "---"
   ]
  },
  {
   "cell_type": "markdown",
   "id": "2ccf0ef7",
   "metadata": {},
   "source": [
    "<img src=\"img/atlas_world.jpg\" width=\"1000\" alt=\"Map of World form 17th Century Atlas\"/>\n",
    "\n",
    "(source: https://biblio.co.uk/book/geographical-description-four-parts-world-blome/d/1391506434)\n",
    "\n",
    "<b>\"Whoever commands the sea, commands the trade; whosoever commands the trade of the world commands the riches of the world, and consequently the world itself.\"</b>\n",
    "\n",
    "Sir Walter Raleigh (c.1552–1618) was an English statesmen, soldier, writer, and explorer. While the UK no longer seeks to command the world, his quote from the 16/17th century recognises the importance of maritime trade in establishing a country's thriving global economy that in turn improves its citizens' quaility of life (source: https://www.oxfordreference.com/display/10.1093/acref/9780191843730.001.0001/q-oro-ed5-00008718).\n",
    "\n",
    "Fast-forwading over 400 years to the present day, the UK experiences the benefits of its economic achievements. Extreme poverty has been dramatically reduced and standards of living are higher than ever before. Britons now have affordable access to an vast variety of good and services sourced from across the entire world. Smartphones, computers, and electronics now allow us to be more productive and \n",
    "\n",
    "\n",
    "\n",
    "Extreme poverty as defined by the World Bank was dramatically reduced and expected to be eliminated in all but a small number of institutionally fragile countries, partly thanks to dramatic growth in East Asian countries. Standards of living, as measured by income per capita, increased across the world.\n",
    "\n",
    "Consumers in economies open to trade gained access to an extraordinary variety of goods sourced from all over the planet at affordable prices. Smartphones, computers, and other electronics allowed people to be more productive and to enjoy more varied entertainment than previous generations had ever dreamed. Declining prices of air travel allowed people to visit other countries, exposing them to new cultures and ideas—an experience once reserved for the ultrawealthy. \n",
    "\n",
    "While many factors contributed to this rise in living standards, openness and other market-oriented policies played an essential role. Trade with (at the time) low-wage countries influenced goods prices and wages in advanced economies, benefiting consumers in these countries and workers in exporting economies. Inflation remained surprisingly low—despite quantitative easing and increasing debt in the US.\n",
    "\n",
    "Finally, the Western world enjoyed a historically rare long period of peace that fostered prosperity. The tight global interconnectedness achieved by the end of the 20th century was arguably a major contributing factor by giving everyone an incentive to behave. War in this hyperglobalized era meant disruption of global supply chains, with potentially dire consequences for the world economy—as we are in the process of finding out (source: https://www.imf.org/en/Publications/fandd/issues/2023/06/growing-threats-to-global-trade-goldberg-reed).\n",
    "\n",
    "Fast-forwading over 400 years to the present day, 95% of the UK's trade is still achieved via maritime transport (source: https://cebr.com/reports/maritime-sector-which-facilitates-95-of-uk-trade-is-among-the-most-exposed-to-brexit/). Countires with growing global trade experience sustained positive economic growth (source: https://ourworldindata.org/trade-and-globalization). This translates to a higher standard of living through generally lower consumer prices and increased availibility of products. (source: https://www.oecdbetterlifeindex.org/countries/united-kingdom/)\n",
    "\n",
    "\n",
    "\n",
    "This human-AI (artificial intelligence) collaboration project will celebrate the success of contemporary global trade by drawing comparisons to life in 17th century Britain. It will achieve this through creative exploration of a British 17th century atlas - <i>A Geographical Description of the Four Parts of the World</i> (1677) by Richard Blome. I will combine this human exploration with AI tools in an attempt to enhance the project's findings and overall creativity. These will include generative...\n",
    "\n",
    "My project aims to inspire the audience through new comparisons of 17th century shipping to today's technical, social, and cultural maritime evolution. The perspective shared will be one of recognition for the UK's generally high standard of living due to globalisation. However, the topic will be critically examined to highlight prevailing inequalities and opportunities for further socio-cultural advancement."
   ]
  },
  {
   "cell_type": "markdown",
   "id": "fec41944",
   "metadata": {},
   "source": [
    "# The 17th Century Atlas\n",
    "\n",
    "<img src='img/atlas_title_page.jpg' width=\"700\" alt=\"Map of World form 17th Century Atlas\"/>\n",
    "\n",
    "(source: https://biblio.co.uk/book/geographical-description-four-parts-world-blome/d/1391506434)\n",
    "\n",
    "<i>A Geographical Description of the Four Parts of the World, Taken from the Notes & Workes of the Famous Monsieur Sanson, Geographer to the French King, and Other Eminent Travellers and Authors :: To which are Added the Commodities, Coyns, Weights, and Measures of the Chief Places of Traffick in the World, Compared with Those of England, (or London) as to the Trade Thereof : Also, a Treatise of Travel, and Another of Traffick, Wherein, the Matter of Trade is Briefly Handled : the Whole Illustrated with Variety of Useful and Delightful Mapps and Figures</i>\n",
    "\n",
    "The object's full title above will be referred to simply as <i>A Geographical Description of the Four Parts of the World</i> going forward. Published in London in 1677, it was created by Richard Blome (1635-1705), an English engraver, cartographer, and publisher (source: https://en.wikipedia.org/wiki/Richard_Blome). The book contains information on regions of the world along with maps, comments on matters of trade, and larger fold-out maps. The exact book explored in this project is held in Special Collections (Sp Coll Bi6-c.2) at the Univeristy of Glasgow library (source: https://eleanor.lib.gla.ac.uk/record=b1602324). This copy was owned by a 17th century Scottish mariner who used it on his ship. It has several torn pages that have been repaired with scraps of merchant invoices which record goods he shipped."
   ]
  },
  {
   "cell_type": "markdown",
   "id": "c8087dff",
   "metadata": {},
   "source": [
    "# AI Tools\n",
    "\n",
    "Artifical intellegence (AI) attempts to use machines to mimic the problem-solving and decision-making capabilities of the human mind. Generative AI is able to use these capabilities to generate text, images, and video in reponse to prompts provided by the user. It learns patterns present in input training data and they produces new data that has similair characteristics."
   ]
  },
  {
   "cell_type": "markdown",
   "id": "71b752a8",
   "metadata": {},
   "source": [
    "# Methodology\n",
    "\n"
   ]
  },
  {
   "cell_type": "markdown",
   "id": "c183fb12",
   "metadata": {},
   "source": []
  }
 ],
 "metadata": {
  "kernelspec": {
   "display_name": "Python 3 (ipykernel)",
   "language": "python",
   "name": "python3"
  },
  "language_info": {
   "codemirror_mode": {
    "name": "ipython",
    "version": 3
   },
   "file_extension": ".py",
   "mimetype": "text/x-python",
   "name": "python",
   "nbconvert_exporter": "python",
   "pygments_lexer": "ipython3",
   "version": "3.9.18"
  }
 },
 "nbformat": 4,
 "nbformat_minor": 5
}
